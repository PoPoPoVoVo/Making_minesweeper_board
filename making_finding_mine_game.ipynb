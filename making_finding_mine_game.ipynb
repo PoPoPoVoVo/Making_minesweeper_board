{
 "cells": [
  {
   "cell_type": "code",
   "execution_count": 1,
   "id": "6650d50f",
   "metadata": {
    "tags": []
   },
   "outputs": [],
   "source": [
    "import numpy as np"
   ]
  },
  {
   "cell_type": "code",
   "execution_count": 19,
   "id": "ae3f7693-8877-4c1b-84e3-f1a7ad2f15b1",
   "metadata": {},
   "outputs": [],
   "source": [
    "def start():\n",
    "    X,Y,N = input(\"게임을 수행할 크기 X*Y를 입력하세요: X(space)Y // 설치할 지뢰 개수를 설정하세요:\" ).split()\n",
    "    X = int(X)\n",
    "    Y = int(Y)\n",
    "    N = int(N)\n",
    "    if N > X*Y :\n",
    "        print(\"ERROR! 지뢰 개수가 게임을 수행할 공간보다 큽니다!\")\n",
    "        L,N,M = start()\n",
    "        L = int(L)\n",
    "        N = int(N)\n",
    "        M = int(M)\n",
    "        return L,N,M\n",
    "    return X,Y,N\n",
    "    \n",
    "def make_grid(X,Y):\n",
    "    Grid = np.array( [[0 for i in range(Y)] for j in range(X) ] )\n",
    "    return Grid\n",
    "\n",
    "\n",
    "def insert_mine(Grid):\n",
    "    global X,Y\n",
    "    G = Grid\n",
    "    mine_X = np.random.randint(X)\n",
    "    mine_Y = np.random.randint(Y)\n",
    "    if G[mine_X][mine_Y] != 100:\n",
    "        G[mine_X][mine_Y] = 100\n",
    "    else:\n",
    "        G = insert_mine(Grid)\n",
    "    return G\n",
    "\n",
    "\n",
    "def count_around_mine(Grid):\n",
    "    global X,Y\n",
    "    G = Grid\n",
    "    for i in range(X):\n",
    "        for j in range(Y):\n",
    "            c = 0\n",
    "            if G[i][j] != 100:\n",
    "                for p in [-1,0,1]:\n",
    "                    for q in [-1,0,1]:\n",
    "                        if i+p >=0 and j+q>=0 and i+p<=X-1 and j+q<=Y-1:\n",
    "                            if G[i+p][j+q] == 100:\n",
    "                                c += 1\n",
    "                G[i][j] = c\n",
    "    return G\n",
    "\n",
    "def N_insert_mine(Grid, N):\n",
    "    G_N = Grid\n",
    "    N = N\n",
    "    for i in range(N):\n",
    "        G_N = insert_mine(Grid)\n",
    "    G_N = count_around_mine(G_N)\n",
    "    return G_N"
   ]
  },
  {
   "cell_type": "code",
   "execution_count": 27,
   "id": "dadad172-b140-43f6-b577-b69fd3fdfbf6",
   "metadata": {
    "tags": []
   },
   "outputs": [
    {
     "name": "stdin",
     "output_type": "stream",
     "text": [
      "게임을 수행할 크기 X*Y를 입력하세요: X(space)Y // 설치할 지뢰 개수를 설정하세요: 50 18 25\n"
     ]
    },
    {
     "name": "stdout",
     "output_type": "stream",
     "text": [
      "50 18 25\n",
      "[[  0   0   0   0   0   0   0   0   0   0   0   0   0   0   0   0   0   0]\n",
      " [  0   1   1   1   0   0   0   0   0   0   0   0   0   0   0   0   0   0]\n",
      " [  0   2 100   2   0   0   0   0   0   0   0   0   0   0   0   0   0   0]\n",
      " [  1   3 100   3   1   1   0   0   0   0   0   0   0   0   0   0   0   0]\n",
      " [100   2   1   2 100   1   0   0   0   0   0   0   0   0   0   0   0   0]\n",
      " [  1   1   0   1   1   1   1   1   1   0   0   0   0   0   0   0   0   0]\n",
      " [  0   0   0   0   0   0   1 100   1   0   0   0   0   0   0   0   0   0]\n",
      " [  0   0   0   0   0   0   1   2   3   2   1   0   0   0   0   0   0   0]\n",
      " [  0   0   0   0   0   0   0   1 100 100   1   0   0   0   0   0   0   0]\n",
      " [  0   0   0   0   0   0   0   1   2   2   1   0   0   0   0   0   0   0]\n",
      " [  0   0   0   0   0   0   0   0   0   0   0   0   0   0   0   0   0   0]\n",
      " [  1   1   1   1   1   0   1   1   1   0   0   0   0   0   0   0   0   0]\n",
      " [100   1   1 100   1   0   1 100   1   0   0   0   0   0   0   0   0   0]\n",
      " [  2   2   2   1   1   0   1   1   1   0   0   0   0   0   0   0   0   0]\n",
      " [  1 100   1   0   0   0   0   0   0   0   0   0   0   0   0   0   0   0]\n",
      " [  1   1   1   0   0   0   0   0   0   0   0   0   0   0   0   0   0   0]\n",
      " [  0   0   0   0   0   0   0   0   0   0   1   1   1   0   0   0   0   0]\n",
      " [  0   0   0   0   0   0   0   0   0   0   1 100   1   0   0   0   0   0]\n",
      " [  1   1   0   0   0   0   0   0   0   0   1   1   1   0   0   0   0   0]\n",
      " [100   1   0   0   0   0   0   0   0   0   0   0   0   0   0   0   0   0]\n",
      " [  1   1   0   0   0   0   0   0   1   1   1   0   0   0   0   0   0   0]\n",
      " [  0   0   0   0   0   0   0   0   1 100   1   1   1   1   0   0   0   0]\n",
      " [  0   0   0   0   0   0   0   0   1   1   1   1 100   1   0   0   0   0]\n",
      " [  1   1   1   0   0   0   0   0   0   0   0   1   1   1   0   0   0   0]\n",
      " [  1 100   1   0   0   0   0   0   0   0   0   0   0   0   0   0   0   0]\n",
      " [  1   1   1   0   0   0   0   0   0   0   0   0   0   0   0   0   1   1]\n",
      " [  1   1   0   0   0   0   0   0   0   0   0   0   0   0   0   0   1 100]\n",
      " [100   1   0   0   0   0   0   0   0   0   0   0   0   0   0   0   1   1]\n",
      " [  1   1   0   0   0   0   0   0   0   0   0   0   0   0   0   0   0   0]\n",
      " [  0   0   0   0   0   0   0   0   0   0   0   0   0   0   0   0   0   0]\n",
      " [  0   0   0   0   0   0   0   0   0   0   0   0   0   0   0   0   0   0]\n",
      " [  0   0   0   0   0   0   0   0   0   1   1   1   0   0   0   0   0   0]\n",
      " [  0   0   0   0   0   1   1   1   0   1 100   1   0   1   1   1   0   0]\n",
      " [  0   0   0   0   0   1 100   1   1   2   2   1   0   1 100   1   0   0]\n",
      " [  0   0   0   0   0   1   1   1   1 100   1   0   0   1   1   1   0   0]\n",
      " [  0   0   0   0   0   0   0   0   1   1   1   0   0   0   0   0   0   0]\n",
      " [  0   0   0   0   0   0   0   0   0   0   0   0   0   0   0   0   0   0]\n",
      " [  0   0   0   0   0   0   0   0   0   0   0   0   0   0   0   0   1   1]\n",
      " [  0   0   0   0   0   0   0   0   0   0   0   0   0   0   0   0   1 100]\n",
      " [  0   1   1   1   0   0   0   0   0   0   0   0   0   0   0   0   1   1]\n",
      " [  0   1 100   1   0   0   0   0   0   0   0   0   0   0   0   0   0   0]\n",
      " [  0   1   1   1   0   0   0   0   0   0   0   0   0   0   0   0   0   0]\n",
      " [  0   0   0   0   0   0   0   0   0   0   0   0   0   0   0   0   0   0]\n",
      " [  0   0   1   1   1   0   0   0   0   0   0   0   0   0   0   0   0   0]\n",
      " [  0   0   1 100   1   0   0   0   0   0   0   0   0   0   0   0   0   0]\n",
      " [  0   0   1   1   1   0   0   0   0   0   0   0   0   0   0   0   0   0]\n",
      " [  0   0   0   0   0   0   0   0   0   0   0   0   0   0   0   0   0   0]\n",
      " [  0   0   0   0   0   0   0   0   0   0   0   0   0   0   0   0   0   0]\n",
      " [  0   0   0   0   0   0   0   0   0   0   0   0   0   0   0   0   0   0]\n",
      " [  0   0   0   0   0   0   0   0   0   0   0   0   0   0   0   0   0   0]]\n"
     ]
    }
   ],
   "source": [
    "X,Y,N = start()\n",
    "print(X,Y,N)\n",
    "Grid = make_grid(X,Y)\n",
    "Grid = N_insert_mine(Grid,N)"
   ]
  },
  {
   "cell_type": "code",
   "execution_count": null,
   "id": "e5478e41-3ad3-46f7-9be4-bb78de892db0",
   "metadata": {},
   "outputs": [],
   "source": []
  }
 ],
 "metadata": {
  "kernelspec": {
   "display_name": "Python 3 (ipykernel)",
   "language": "python",
   "name": "python3"
  },
  "language_info": {
   "codemirror_mode": {
    "name": "ipython",
    "version": 3
   },
   "file_extension": ".py",
   "mimetype": "text/x-python",
   "name": "python",
   "nbconvert_exporter": "python",
   "pygments_lexer": "ipython3",
   "version": "3.7.11"
  }
 },
 "nbformat": 4,
 "nbformat_minor": 5
}
